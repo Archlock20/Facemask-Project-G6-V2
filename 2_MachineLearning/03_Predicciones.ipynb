{
 "cells": [
  {
   "cell_type": "markdown",
   "id": "0d0b6104",
   "metadata": {},
   "source": [
    "## Creando el modelo predictivo"
   ]
  },
  {
   "cell_type": "code",
   "execution_count": 1,
   "id": "b9381405",
   "metadata": {},
   "outputs": [],
   "source": [
    "import numpy as np\n",
    "import cv2\n",
    "import tensorflow as tf"
   ]
  },
  {
   "cell_type": "code",
   "execution_count": 2,
   "id": "e04da55c",
   "metadata": {},
   "outputs": [],
   "source": [
    "from scipy.special import softmax"
   ]
  },
  {
   "cell_type": "code",
   "execution_count": 3,
   "id": "99ce27c6",
   "metadata": {},
   "outputs": [],
   "source": [
    "# Importar el modelo de deteccion de rostros\n",
    "face_detection_model = cv2.dnn.readNetFromCaffe('./Models/deploy.prototxt.txt',\n",
    "                                                './Models/res10_300x300_ssd_iter_140000_fp16.caffemodel')\n",
    "\n",
    "# Importar el modelo de reconocimiento de mascarillas\n",
    "model = tf.keras.models.load_model('modelo_cnn_deteccion_mascarillas_AG_MT_V3')"
   ]
  },
  {
   "cell_type": "code",
   "execution_count": 4,
   "id": "1d16b125",
   "metadata": {},
   "outputs": [],
   "source": [
    "# Crear las etiquetas y asignarles un color respectivo a cada una de ellas\n",
    "etiquetas = ['Con Mascarilla', 'Sin Mascarilla']\n",
    "\n",
    "def getcolor(etiqueta):\n",
    "    if etiqueta == \"Con Mascarilla\":\n",
    "        color = (0,255,0)\n",
    "    else: \n",
    "        color = (0,0,255)\n",
    "    return color"
   ]
  },
  {
   "cell_type": "code",
   "execution_count": 5,
   "id": "6d1ecdea",
   "metadata": {},
   "outputs": [
    {
     "data": {
      "text/plain": [
       "(0, 0, 255)"
      ]
     },
     "execution_count": 5,
     "metadata": {},
     "output_type": "execute_result"
    }
   ],
   "source": [
    "getcolor('Sin Mascarilla')"
   ]
  },
  {
   "cell_type": "code",
   "execution_count": 17,
   "id": "5497395e",
   "metadata": {},
   "outputs": [
    {
     "name": "stdout",
     "output_type": "stream",
     "text": [
      "1/1 [==============================] - 0s 11ms/step\n",
      "1/1 [==============================] - 0s 20ms/step\n",
      "1/1 [==============================] - 0s 22ms/step\n",
      "1/1 [==============================] - 0s 21ms/step\n"
     ]
    }
   ],
   "source": [
    "#####FORMA NORMAL#####\n",
    "img = cv2.imread('./mascarilla2.jpg')\n",
    "# Paso 1 - Deteccion de rostros\n",
    "image = img.copy()\n",
    "h, w = image.shape[:2]\n",
    "blob = cv2.dnn.blobFromImage(image,1,(300,300),(104,117,123),swapRB=True)\n",
    "#\n",
    "face_detection_model.setInput(blob)\n",
    "detection = face_detection_model.forward()\n",
    "for i in range(0,detection.shape[2]):\n",
    "    confidence = detection[0,0,i,2]\n",
    "    if confidence > 0.5:\n",
    "        box = detection[0,0,i,3:7]*np.array([w,h,w,h])\n",
    "        box = box.astype(int)\n",
    "        pt1 = (box[0],box[1])\n",
    "        pt2 = (box[2],box[3])\n",
    "        cv2.rectangle(image,pt1,pt2,(0,255,0),1)    \n",
    "        # Paso 2 - Preprosesamiento de los datos\n",
    "        face = image[box[1]:box[3],box[0]:box[2]]\n",
    "        face_blob = cv2.dnn.blobFromImage(face,1,(100,100),(104,117,123),swapRB=True)\n",
    "        face_blob_squeeze = np.squeeze(face_blob).T\n",
    "        face_blob_rotate = cv2.rotate(face_blob_squeeze,cv2.ROTATE_90_CLOCKWISE)\n",
    "        face_blob_flip = cv2.flip(face_blob_rotate,1)\n",
    "        # Paso 3 - Normalizacion\n",
    "        img_norm = np.maximum(face_blob_flip,0)/face_blob_flip.max()\n",
    "        # Paso 4 - Aprendizaje Profundo (CNN)\n",
    "        img_input = img_norm.reshape(1,100,100,3)\n",
    "        result = model.predict(img_input)\n",
    "        result = softmax(result)[0]\n",
    "        confidence_index = result.argmax()\n",
    "        confidence_score = result[confidence_index]\n",
    "        label = etiquetas[confidence_index]\n",
    "        label_text = '{}: {:,.0f}%'.format(label,confidence_score*100)\n",
    "        #print(label_text)\n",
    "        color = getcolor(label)\n",
    "        cv2.rectangle(image,pt1,pt2,color,1)\n",
    "        cv2.putText(image,label_text,pt1,cv2.FONT_HERSHEY_PLAIN,2,color,2)\n",
    "\n",
    "cv2.imshow('Prediccion', image)\n",
    "cv2.waitKey()\n",
    "cv2.destroyAllWindows()"
   ]
  },
  {
   "cell_type": "code",
   "execution_count": 11,
   "id": "9da93bff",
   "metadata": {},
   "outputs": [],
   "source": [
    "######EN FORMA DE FUNCION#####\n",
    "def face_mask_prediction(img):\n",
    "    # Paso 1 - Deteccion de rostros\n",
    "    image = img.copy()\n",
    "    h, w = image.shape[:2]\n",
    "    blob = cv2.dnn.blobFromImage(image,1,(300,300),(104,117,123),swapRB=True)\n",
    "    #\n",
    "    face_detection_model.setInput(blob)\n",
    "    detection = face_detection_model.forward()\n",
    "    for i in range(0,detection.shape[2]):\n",
    "        confidence = detection[0,0,i,2]\n",
    "        if confidence > 0.5:\n",
    "            box = detection[0,0,i,3:7]*np.array([w,h,w,h])\n",
    "            box = box.astype(int)\n",
    "            pt1 = (box[0],box[1])\n",
    "            pt2 = (box[2],box[3])\n",
    "            cv2.rectangle(image,pt1,pt2,(0,255,0),1)    \n",
    "            # Paso 2 - Preprosesamiento de los datos\n",
    "            face = image[box[1]:box[3],box[0]:box[2]]\n",
    "            face_blob = cv2.dnn.blobFromImage(face,1,(100,100),(104,117,123),swapRB=True)\n",
    "            face_blob_squeeze = np.squeeze(face_blob).T\n",
    "            face_blob_rotate = cv2.rotate(face_blob_squeeze,cv2.ROTATE_90_CLOCKWISE)\n",
    "            face_blob_flip = cv2.flip(face_blob_rotate,1)\n",
    "            # Paso 3 - Normalizacion\n",
    "            img_norm = np.maximum(face_blob_flip,0)/face_blob_flip.max()\n",
    "            # Paso 4 - Aprendizaje Profundo (CNN)\n",
    "            img_input = img_norm.reshape(1,100,100,3)\n",
    "            result = model.predict(img_input)\n",
    "            result = softmax(result)[0]\n",
    "            confidence_index = result.argmax()\n",
    "            confidence_score = result[confidence_index]\n",
    "            label = etiquetas[confidence_index]\n",
    "            label_text = '{}: {:,.0f}%'.format(label,confidence_score*100)\n",
    "            color = getcolor(label)\n",
    "            cv2.rectangle(image,pt1,pt2,color,1)\n",
    "            cv2.putText(image,label_text,pt1,cv2.FONT_HERSHEY_PLAIN,2,color,2)\n",
    "            \n",
    "    return image"
   ]
  },
  {
   "cell_type": "code",
   "execution_count": 12,
   "id": "1e91a586",
   "metadata": {},
   "outputs": [
    {
     "name": "stdout",
     "output_type": "stream",
     "text": [
      "1/1 [==============================] - 0s 26ms/step\n",
      "1/1 [==============================] - 0s 28ms/step\n",
      "1/1 [==============================] - 0s 26ms/step\n",
      "1/1 [==============================] - 0s 24ms/step\n"
     ]
    }
   ],
   "source": [
    "# Comando para reconocimiento\n",
    "img = cv2.imread('./mascarilla14.jpg')\n",
    "\n",
    "image = face_mask_prediction(img)\n",
    "\n",
    "cv2.imshow('Prediccion', image)\n",
    "cv2.waitKey()\n",
    "cv2.destroyAllWindows()"
   ]
  },
  {
   "cell_type": "markdown",
   "id": "0bd97694",
   "metadata": {},
   "source": [
    "## Deteccion de mascarillas en tiempo real utilizando las webcam"
   ]
  },
  {
   "cell_type": "code",
   "execution_count": 16,
   "id": "732ae25a",
   "metadata": {},
   "outputs": [
    {
     "ename": "KeyboardInterrupt",
     "evalue": "",
     "output_type": "error",
     "traceback": [
      "\u001b[1;31m---------------------------------------------------------------------------\u001b[0m",
      "\u001b[1;31mKeyboardInterrupt\u001b[0m                         Traceback (most recent call last)",
      "Cell \u001b[1;32mIn[16], line 8\u001b[0m\n\u001b[0;32m      5\u001b[0m \u001b[38;5;28;01mif\u001b[39;00m ret \u001b[38;5;241m==\u001b[39m \u001b[38;5;28;01mFalse\u001b[39;00m:\n\u001b[0;32m      6\u001b[0m     \u001b[38;5;28;01mbreak\u001b[39;00m\n\u001b[1;32m----> 8\u001b[0m image \u001b[38;5;241m=\u001b[39m \u001b[43mface_mask_prediction\u001b[49m\u001b[43m(\u001b[49m\u001b[43mframes\u001b[49m\u001b[43m)\u001b[49m\n\u001b[0;32m      9\u001b[0m cv2\u001b[38;5;241m.\u001b[39mimshow(\u001b[38;5;124m'\u001b[39m\u001b[38;5;124mDeteccion de mascarillas\u001b[39m\u001b[38;5;124m'\u001b[39m, image)\n\u001b[0;32m     10\u001b[0m \u001b[38;5;28;01mif\u001b[39;00m cv2\u001b[38;5;241m.\u001b[39mwaitKey(\u001b[38;5;241m1\u001b[39m) \u001b[38;5;241m==\u001b[39m \u001b[38;5;241m27\u001b[39m:\n",
      "Cell \u001b[1;32mIn[14], line 10\u001b[0m, in \u001b[0;36mface_mask_prediction\u001b[1;34m(img)\u001b[0m\n\u001b[0;32m      8\u001b[0m \u001b[38;5;66;03m#\u001b[39;00m\n\u001b[0;32m      9\u001b[0m face_detection_model\u001b[38;5;241m.\u001b[39msetInput(blob)\n\u001b[1;32m---> 10\u001b[0m detection \u001b[38;5;241m=\u001b[39m \u001b[43mface_detection_model\u001b[49m\u001b[38;5;241;43m.\u001b[39;49m\u001b[43mforward\u001b[49m\u001b[43m(\u001b[49m\u001b[43m)\u001b[49m\n\u001b[0;32m     11\u001b[0m \u001b[38;5;28;01mfor\u001b[39;00m i \u001b[38;5;129;01min\u001b[39;00m \u001b[38;5;28mrange\u001b[39m(\u001b[38;5;241m0\u001b[39m,detection\u001b[38;5;241m.\u001b[39mshape[\u001b[38;5;241m2\u001b[39m]):\n\u001b[0;32m     12\u001b[0m     confidence \u001b[38;5;241m=\u001b[39m detection[\u001b[38;5;241m0\u001b[39m,\u001b[38;5;241m0\u001b[39m,i,\u001b[38;5;241m2\u001b[39m]\n",
      "\u001b[1;31mKeyboardInterrupt\u001b[0m: "
     ]
    }
   ],
   "source": [
    "captura = cv2.VideoCapture(0)\n",
    "\n",
    "while True:\n",
    "    ret, frames = captura.read()\n",
    "    if ret == False:\n",
    "        break\n",
    "        \n",
    "    image = face_mask_prediction(frames)\n",
    "    cv2.imshow('Deteccion de mascarillas', image)\n",
    "    if cv2.waitKey(1) == 27:\n",
    "        break\n",
    "        \n",
    "captura.release()\n",
    "cv2.destroyAllWindows()"
   ]
  },
  {
   "cell_type": "code",
   "execution_count": null,
   "id": "db636891",
   "metadata": {},
   "outputs": [],
   "source": []
  }
 ],
 "metadata": {
  "kernelspec": {
   "display_name": "Python 3 (ipykernel)",
   "language": "python",
   "name": "python3"
  },
  "language_info": {
   "codemirror_mode": {
    "name": "ipython",
    "version": 3
   },
   "file_extension": ".py",
   "mimetype": "text/x-python",
   "name": "python",
   "nbconvert_exporter": "python",
   "pygments_lexer": "ipython3",
   "version": "3.10.6"
  },
  "vscode": {
   "interpreter": {
    "hash": "525cfb76021c0c0ef5084fd1fa7fcb64af32094a2f7e1c63dd09524cd5e174ca"
   }
  }
 },
 "nbformat": 4,
 "nbformat_minor": 5
}
