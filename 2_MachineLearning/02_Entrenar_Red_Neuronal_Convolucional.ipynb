{
 "cells": [
  {
   "cell_type": "markdown",
   "id": "5df42750",
   "metadata": {},
   "source": [
    "## Entrenar el modelo de Deep Learning"
   ]
  },
  {
   "cell_type": "markdown",
   "id": "b63e2135",
   "metadata": {},
   "source": [
    "## Paso 1:\n",
    "- Cargar los datos previamente procesados"
   ]
  },
  {
   "cell_type": "code",
   "execution_count": 1,
   "id": "d0bfd5e3",
   "metadata": {},
   "outputs": [],
   "source": [
    "# Carga de las librerias necesarias\n",
    "import os\n",
    "import numpy as np\n",
    "import cv2\n",
    "import gc"
   ]
  },
  {
   "cell_type": "code",
   "execution_count": 2,
   "id": "7e06fb55",
   "metadata": {},
   "outputs": [],
   "source": [
    "# Cargar la data preprocesada\n",
    "data = np.load('./Data/data_preprocesada_v1.npz')"
   ]
  },
  {
   "cell_type": "code",
   "execution_count": 3,
   "id": "6a79d966",
   "metadata": {},
   "outputs": [],
   "source": [
    "X = data['arr_0']\n",
    "y = data['arr_1']"
   ]
  },
  {
   "cell_type": "code",
   "execution_count": 4,
   "id": "9aab5031",
   "metadata": {},
   "outputs": [
    {
     "data": {
      "text/plain": [
       "((9477, 100, 100, 3), (9477,))"
      ]
     },
     "execution_count": 4,
     "metadata": {},
     "output_type": "execute_result"
    }
   ],
   "source": [
    "X.shape, y.shape"
   ]
  },
  {
   "cell_type": "markdown",
   "id": "2d814d88",
   "metadata": {},
   "source": [
    "## Paso 2:\n",
    "- Preprosesar \"y\""
   ]
  },
  {
   "cell_type": "code",
   "execution_count": 5,
   "id": "0ee7e54f",
   "metadata": {},
   "outputs": [
    {
     "data": {
      "text/plain": [
       "array(['WithMask', 'WithoutMask'], dtype='<U11')"
      ]
     },
     "execution_count": 5,
     "metadata": {},
     "output_type": "execute_result"
    }
   ],
   "source": [
    "np.unique(y)"
   ]
  },
  {
   "cell_type": "code",
   "execution_count": 6,
   "id": "3d95bf37",
   "metadata": {},
   "outputs": [],
   "source": [
    "from sklearn.preprocessing import OneHotEncoder"
   ]
  },
  {
   "cell_type": "code",
   "execution_count": 7,
   "id": "329ccc9c",
   "metadata": {},
   "outputs": [],
   "source": [
    "onehot = OneHotEncoder()\n",
    "y_onehot = onehot.fit_transform(y.reshape(-1,1))"
   ]
  },
  {
   "cell_type": "code",
   "execution_count": 8,
   "id": "2cd747e1",
   "metadata": {},
   "outputs": [],
   "source": [
    "y_array = y_onehot.toarray()"
   ]
  },
  {
   "cell_type": "code",
   "execution_count": 9,
   "id": "dfdeb1eb",
   "metadata": {},
   "outputs": [
    {
     "data": {
      "text/plain": [
       "(9477, 2)"
      ]
     },
     "execution_count": 9,
     "metadata": {},
     "output_type": "execute_result"
    }
   ],
   "source": [
    "y_array.shape"
   ]
  },
  {
   "cell_type": "markdown",
   "id": "6d632a37",
   "metadata": {},
   "source": [
    "## Paso 3:\n",
    "- Separar los datos en sets de entrenamiento y test respectivamente"
   ]
  },
  {
   "cell_type": "code",
   "execution_count": 10,
   "id": "54c1215e",
   "metadata": {},
   "outputs": [],
   "source": [
    "from sklearn.model_selection import train_test_split\n",
    "x_train, x_test, y_train, y_test = train_test_split(X,y_array, test_size=0.2, random_state=42)"
   ]
  },
  {
   "cell_type": "code",
   "execution_count": 11,
   "id": "fe6cdbc2",
   "metadata": {},
   "outputs": [
    {
     "data": {
      "text/plain": [
       "((7581, 100, 100, 3), (1896, 100, 100, 3), (7581, 2), (1896, 2))"
      ]
     },
     "execution_count": 11,
     "metadata": {},
     "output_type": "execute_result"
    }
   ],
   "source": [
    "x_train.shape, x_test.shape, y_train.shape, y_test.shape"
   ]
  },
  {
   "cell_type": "markdown",
   "id": "e2680064",
   "metadata": {},
   "source": [
    "## Paso 4:\n",
    "- Diseno y creacion del modelo de Deep Learning"
   ]
  },
  {
   "cell_type": "code",
   "execution_count": 1,
   "id": "e16bb66a",
   "metadata": {},
   "outputs": [],
   "source": [
    "# Importar las librerias necesarias para la creacion del modelo\n",
    "import tensorflow as tf\n",
    "from tensorflow.keras import layers\n",
    "from tensorflow.keras import Sequential"
   ]
  },
  {
   "cell_type": "code",
   "execution_count": 13,
   "id": "c6aba14a",
   "metadata": {},
   "outputs": [],
   "source": [
    "# Diseñar la estuctura de la red neuronal convolucional\n",
    "\n",
    "model = Sequential([\n",
    "    layers.Conv2D(16,3,padding='same', input_shape=(100,100,3),activation='relu'),\n",
    "    layers.MaxPool2D(),\n",
    "    layers.Conv2D(32,3,padding='same',activation='relu'),\n",
    "    layers.MaxPool2D(),\n",
    "    layers.Conv2D(64,3,padding='same',activation='relu'),\n",
    "    layers.MaxPool2D(),\n",
    "    layers.Flatten(),\n",
    "    layers.Dense(192,activation='relu'),\n",
    "    layers.Dropout(0.5),\n",
    "    layers.Dense(28,activation='relu'),\n",
    "    layers.Dense(2,activation='sigmoid')\n",
    "])\n",
    "\n",
    "# Compilar el modelo de red neuronal convolucional. Configurar el optimizador \"Adam\" y la función de pérdida\n",
    "model.compile(optimizer=tf.keras.optimizers.Adam(learning_rate=0.0001),\n",
    "              loss=tf.keras.losses.categorical_crossentropy,metrics=['accuracy'])"
   ]
  },
  {
   "cell_type": "code",
   "execution_count": 17,
   "id": "51c75586",
   "metadata": {},
   "outputs": [],
   "source": [
    "##model = Sequential([\n",
    "##    layers.Conv2D(filters=32, kernel_size=(3, 3), activation='relu', input_shape=(100, 100, 3)),\n",
    "##    layers.MaxPooling2D(pool_size=(2, 2)),\n",
    "##    layers.Conv2D(filters=64, kernel_size=(3, 3), activation='relu'),\n",
    "##    layers.MaxPooling2D(pool_size=(2, 2)),\n",
    "##    layers.Flatten(),\n",
    "##    layers.Dense(units=128, activation='relu'),\n",
    "##    layers.Dense(units=2, activation='softmax')\n",
    "##])\n",
    "##\n",
    "### compile the model with Adam optimizer and categorical cross-entropy loss function\n",
    "##model.compile(optimizer=tf.keras.optimizers.Adam(learning_rate=0.0001),\n",
    "##              loss=tf.keras.losses.categorical_crossentropy,metrics=['accuracy'])"
   ]
  },
  {
   "cell_type": "code",
   "execution_count": 14,
   "id": "29844f28",
   "metadata": {},
   "outputs": [
    {
     "name": "stdout",
     "output_type": "stream",
     "text": [
      "Model: \"sequential\"\n",
      "_________________________________________________________________\n",
      " Layer (type)                Output Shape              Param #   \n",
      "=================================================================\n",
      " conv2d (Conv2D)             (None, 100, 100, 16)      448       \n",
      "                                                                 \n",
      " max_pooling2d (MaxPooling2D  (None, 50, 50, 16)       0         \n",
      " )                                                               \n",
      "                                                                 \n",
      " conv2d_1 (Conv2D)           (None, 50, 50, 32)        4640      \n",
      "                                                                 \n",
      " max_pooling2d_1 (MaxPooling  (None, 25, 25, 32)       0         \n",
      " 2D)                                                             \n",
      "                                                                 \n",
      " conv2d_2 (Conv2D)           (None, 25, 25, 64)        18496     \n",
      "                                                                 \n",
      " max_pooling2d_2 (MaxPooling  (None, 12, 12, 64)       0         \n",
      " 2D)                                                             \n",
      "                                                                 \n",
      " flatten (Flatten)           (None, 9216)              0         \n",
      "                                                                 \n",
      " dense (Dense)               (None, 192)               1769664   \n",
      "                                                                 \n",
      " dropout (Dropout)           (None, 192)               0         \n",
      "                                                                 \n",
      " dense_1 (Dense)             (None, 28)                5404      \n",
      "                                                                 \n",
      " dense_2 (Dense)             (None, 2)                 58        \n",
      "                                                                 \n",
      "=================================================================\n",
      "Total params: 1,798,710\n",
      "Trainable params: 1,798,710\n",
      "Non-trainable params: 0\n",
      "_________________________________________________________________\n"
     ]
    }
   ],
   "source": [
    "model.summary()"
   ]
  },
  {
   "cell_type": "code",
   "execution_count": 15,
   "id": "0f88a3be",
   "metadata": {},
   "outputs": [
    {
     "name": "stdout",
     "output_type": "stream",
     "text": [
      "Epoch 1/10\n",
      "253/253 [==============================] - 50s 191ms/step - loss: 0.2442 - accuracy: 0.9025 - val_loss: 0.1013 - val_accuracy: 0.9615\n",
      "Epoch 2/10\n",
      "253/253 [==============================] - 47s 185ms/step - loss: 0.1035 - accuracy: 0.9604 - val_loss: 0.0572 - val_accuracy: 0.9847\n",
      "Epoch 3/10\n",
      "253/253 [==============================] - 46s 184ms/step - loss: 0.0705 - accuracy: 0.9728 - val_loss: 0.0565 - val_accuracy: 0.9757\n",
      "Epoch 4/10\n",
      "253/253 [==============================] - 48s 188ms/step - loss: 0.0599 - accuracy: 0.9772 - val_loss: 0.0425 - val_accuracy: 0.9858\n",
      "Epoch 5/10\n",
      "253/253 [==============================] - 49s 192ms/step - loss: 0.0437 - accuracy: 0.9827 - val_loss: 0.0367 - val_accuracy: 0.9858\n",
      "Epoch 6/10\n",
      "253/253 [==============================] - 45s 179ms/step - loss: 0.0396 - accuracy: 0.9854 - val_loss: 0.0451 - val_accuracy: 0.9810\n",
      "Epoch 7/10\n",
      "253/253 [==============================] - 50s 196ms/step - loss: 0.0337 - accuracy: 0.9863 - val_loss: 0.0307 - val_accuracy: 0.9889\n",
      "Epoch 8/10\n",
      "253/253 [==============================] - 48s 188ms/step - loss: 0.0291 - accuracy: 0.9893 - val_loss: 0.0307 - val_accuracy: 0.9884\n",
      "Epoch 9/10\n",
      "253/253 [==============================] - 48s 191ms/step - loss: 0.0251 - accuracy: 0.9893 - val_loss: 0.0253 - val_accuracy: 0.9910\n",
      "Epoch 10/10\n",
      "253/253 [==============================] - 49s 195ms/step - loss: 0.0204 - accuracy: 0.9921 - val_loss: 0.0231 - val_accuracy: 0.9931\n"
     ]
    }
   ],
   "source": [
    "# Entrenar la red Neuronal con los parametros necesarios\n",
    "history = model.fit(x=x_train,y=y_train,validation_data=(x_test,y_test),batch_size=30,epochs=10)"
   ]
  },
  {
   "cell_type": "code",
   "execution_count": 16,
   "id": "400a1e17",
   "metadata": {},
   "outputs": [],
   "source": [
    "import pandas as pd\n",
    "import matplotlib.pyplot as plt"
   ]
  },
  {
   "cell_type": "code",
   "execution_count": 17,
   "id": "7f4dd1a5",
   "metadata": {},
   "outputs": [],
   "source": [
    "# Crear la tabla con los datos de perdida y presicion\n",
    "history_df = pd.DataFrame(history.history)"
   ]
  },
  {
   "cell_type": "code",
   "execution_count": 18,
   "id": "ff7a1f35",
   "metadata": {},
   "outputs": [
    {
     "data": {
      "text/html": [
       "<div>\n",
       "<style scoped>\n",
       "    .dataframe tbody tr th:only-of-type {\n",
       "        vertical-align: middle;\n",
       "    }\n",
       "\n",
       "    .dataframe tbody tr th {\n",
       "        vertical-align: top;\n",
       "    }\n",
       "\n",
       "    .dataframe thead th {\n",
       "        text-align: right;\n",
       "    }\n",
       "</style>\n",
       "<table border=\"1\" class=\"dataframe\">\n",
       "  <thead>\n",
       "    <tr style=\"text-align: right;\">\n",
       "      <th></th>\n",
       "      <th>loss</th>\n",
       "      <th>accuracy</th>\n",
       "      <th>val_loss</th>\n",
       "      <th>val_accuracy</th>\n",
       "    </tr>\n",
       "  </thead>\n",
       "  <tbody>\n",
       "    <tr>\n",
       "      <th>0</th>\n",
       "      <td>0.244235</td>\n",
       "      <td>0.902519</td>\n",
       "      <td>0.101292</td>\n",
       "      <td>0.961498</td>\n",
       "    </tr>\n",
       "    <tr>\n",
       "      <th>1</th>\n",
       "      <td>0.103481</td>\n",
       "      <td>0.960427</td>\n",
       "      <td>0.057244</td>\n",
       "      <td>0.984705</td>\n",
       "    </tr>\n",
       "    <tr>\n",
       "      <th>2</th>\n",
       "      <td>0.070541</td>\n",
       "      <td>0.972827</td>\n",
       "      <td>0.056453</td>\n",
       "      <td>0.975738</td>\n",
       "    </tr>\n",
       "    <tr>\n",
       "      <th>3</th>\n",
       "      <td>0.059881</td>\n",
       "      <td>0.977180</td>\n",
       "      <td>0.042489</td>\n",
       "      <td>0.985759</td>\n",
       "    </tr>\n",
       "    <tr>\n",
       "      <th>4</th>\n",
       "      <td>0.043730</td>\n",
       "      <td>0.982720</td>\n",
       "      <td>0.036656</td>\n",
       "      <td>0.985759</td>\n",
       "    </tr>\n",
       "    <tr>\n",
       "      <th>5</th>\n",
       "      <td>0.039629</td>\n",
       "      <td>0.985358</td>\n",
       "      <td>0.045082</td>\n",
       "      <td>0.981013</td>\n",
       "    </tr>\n",
       "    <tr>\n",
       "      <th>6</th>\n",
       "      <td>0.033695</td>\n",
       "      <td>0.986282</td>\n",
       "      <td>0.030682</td>\n",
       "      <td>0.988924</td>\n",
       "    </tr>\n",
       "    <tr>\n",
       "      <th>7</th>\n",
       "      <td>0.029054</td>\n",
       "      <td>0.989315</td>\n",
       "      <td>0.030717</td>\n",
       "      <td>0.988397</td>\n",
       "    </tr>\n",
       "    <tr>\n",
       "      <th>8</th>\n",
       "      <td>0.025076</td>\n",
       "      <td>0.989315</td>\n",
       "      <td>0.025316</td>\n",
       "      <td>0.991034</td>\n",
       "    </tr>\n",
       "    <tr>\n",
       "      <th>9</th>\n",
       "      <td>0.020359</td>\n",
       "      <td>0.992085</td>\n",
       "      <td>0.023100</td>\n",
       "      <td>0.993143</td>\n",
       "    </tr>\n",
       "  </tbody>\n",
       "</table>\n",
       "</div>"
      ],
      "text/plain": [
       "       loss  accuracy  val_loss  val_accuracy\n",
       "0  0.244235  0.902519  0.101292      0.961498\n",
       "1  0.103481  0.960427  0.057244      0.984705\n",
       "2  0.070541  0.972827  0.056453      0.975738\n",
       "3  0.059881  0.977180  0.042489      0.985759\n",
       "4  0.043730  0.982720  0.036656      0.985759\n",
       "5  0.039629  0.985358  0.045082      0.981013\n",
       "6  0.033695  0.986282  0.030682      0.988924\n",
       "7  0.029054  0.989315  0.030717      0.988397\n",
       "8  0.025076  0.989315  0.025316      0.991034\n",
       "9  0.020359  0.992085  0.023100      0.993143"
      ]
     },
     "execution_count": 18,
     "metadata": {},
     "output_type": "execute_result"
    }
   ],
   "source": [
    "# Mostrar la tabla con los datos de perdida y presicion\n",
    "history_df"
   ]
  },
  {
   "cell_type": "code",
   "execution_count": 19,
   "id": "0f070193",
   "metadata": {},
   "outputs": [
    {
     "data": {
      "text/plain": [
       "<function matplotlib.pyplot.show(close=None, block=None)>"
      ]
     },
     "execution_count": 19,
     "metadata": {},
     "output_type": "execute_result"
    },
    {
     "data": {
      "image/png": "[encoded data removed]",
      "text/plain": [
       "<Figure size 640x480 with 1 Axes>"
      ]
     },
     "metadata": {},
     "output_type": "display_data"
    }
   ],
   "source": [
    "# Grafica de Perdida vs epocas\n",
    "history_df[['loss','val_loss']].plot(kind='line')\n",
    "plt.xlabel('Epocas')\n",
    "plt.ylabel('Perdida')\n",
    "plt.xticks(list(range(10)),list(range(1,11)))\n",
    "plt.show"
   ]
  },
  {
   "cell_type": "code",
   "execution_count": 20,
   "id": "efb014d5",
   "metadata": {},
   "outputs": [
    {
     "data": {
      "text/plain": [
       "<function matplotlib.pyplot.show(close=None, block=None)>"
      ]
     },
     "execution_count": 20,
     "metadata": {},
     "output_type": "execute_result"
    },
    {
     "data": {
      "image/png": "[encoded data removed]",
      "text/plain": [
       "<Figure size 640x480 with 1 Axes>"
      ]
     },
     "metadata": {},
     "output_type": "display_data"
    }
   ],
   "source": [
    "# Grafica de Presicion vs epocas\n",
    "history_df[['accuracy','val_accuracy']].plot(kind='line')\n",
    "plt.xlabel('Epocas')\n",
    "plt.ylabel('Presicion')\n",
    "plt.xticks(list(range(10)),list(range(1,11)))\n",
    "plt.show"
   ]
  },
  {
   "cell_type": "code",
   "execution_count": 21,
   "id": "9fe65ead",
   "metadata": {},
   "outputs": [
    {
     "name": "stderr",
     "output_type": "stream",
     "text": [
      "WARNING:absl:Found untraced functions such as _jit_compiled_convolution_op, _jit_compiled_convolution_op, _jit_compiled_convolution_op, _update_step_xla while saving (showing 4 of 4). These functions will not be directly callable after loading.\n"
     ]
    },
    {
     "name": "stdout",
     "output_type": "stream",
     "text": [
      "INFO:tensorflow:Assets written to: modelo_cnn_deteccion_mascarillas_AG_MT_V3\\assets\n"
     ]
    },
    {
     "name": "stderr",
     "output_type": "stream",
     "text": [
      "INFO:tensorflow:Assets written to: modelo_cnn_deteccion_mascarillas_AG_MT_V3\\assets\n"
     ]
    }
   ],
   "source": [
    "# Guardar el modelo diseñado\n",
    "model.save('modelo_cnn_deteccion_mascarillas_AG_MT_V3')"
   ]
  },
  {
   "cell_type": "code",
   "execution_count": null,
   "id": "f6da86c3",
   "metadata": {},
   "outputs": [],
   "source": []
  }
 ],
 "metadata": {
  "kernelspec": {
   "display_name": "Python 3 (ipykernel)",
   "language": "python",
   "name": "python3"
  },
  "language_info": {
   "codemirror_mode": {
    "name": "ipython",
    "version": 3
   },
   "file_extension": ".py",
   "mimetype": "text/x-python",
   "name": "python",
   "nbconvert_exporter": "python",
   "pygments_lexer": "ipython3",
   "version": "3.10.6 (tags/v3.10.6:9c7b4bd, Aug  1 2022, 21:53:49) [MSC v.1932 64 bit (AMD64)]"
  },
  "vscode": {
   "interpreter": {
    "hash": "525cfb76021c0c0ef5084fd1fa7fcb64af32094a2f7e1c63dd09524cd5e174ca"
   }
  }
 },
 "nbformat": 4,
 "nbformat_minor": 5
}
