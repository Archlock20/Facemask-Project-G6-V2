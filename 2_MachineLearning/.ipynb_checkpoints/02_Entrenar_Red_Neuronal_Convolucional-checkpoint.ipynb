{
 "cells": [
  {
   "cell_type": "markdown",
   "id": "5df42750",
   "metadata": {},
   "source": [
    "## Entrenar el modelo de Deep Learning"
   ]
  },
  {
   "cell_type": "markdown",
   "id": "b63e2135",
   "metadata": {},
   "source": [
    "## Paso 1:\n",
    "- Cargar los datos previamente procesados"
   ]
  },
  {
   "cell_type": "code",
   "execution_count": 17,
   "id": "d0bfd5e3",
   "metadata": {},
   "outputs": [],
   "source": [
    "# Carga de las librerias necesarias\n",
    "import os\n",
    "import numpy as np\n",
    "import cv2\n",
    "import gc"
   ]
  },
  {
   "cell_type": "code",
   "execution_count": 18,
   "id": "7e06fb55",
   "metadata": {},
   "outputs": [],
   "source": [
    "# Cargar la data preprocesada\n",
    "data = np.load('./Data/data_preprocesada_v2.npz')"
   ]
  },
  {
   "cell_type": "code",
   "execution_count": 19,
   "id": "6a79d966",
   "metadata": {},
   "outputs": [],
   "source": [
    "X = data['arr_0']\n",
    "y = data['arr_1']"
   ]
  },
  {
   "cell_type": "code",
   "execution_count": 20,
   "id": "9aab5031",
   "metadata": {},
   "outputs": [
    {
     "data": {
      "text/plain": [
       "((9960, 100, 100, 3), (9960,))"
      ]
     },
     "execution_count": 20,
     "metadata": {},
     "output_type": "execute_result"
    }
   ],
   "source": [
    "X.shape, y.shape"
   ]
  },
  {
   "cell_type": "markdown",
   "id": "2d814d88",
   "metadata": {},
   "source": [
    "## Paso 2:\n",
    "- Preprosesar \"y\""
   ]
  },
  {
   "cell_type": "code",
   "execution_count": 21,
   "id": "0ee7e54f",
   "metadata": {},
   "outputs": [
    {
     "data": {
      "text/plain": [
       "array(['Mask', 'Mask_Chin', 'Mask_Mouth_Chin', 'Mask_Nose_Mouth'],\n",
       "      dtype='<U15')"
      ]
     },
     "execution_count": 21,
     "metadata": {},
     "output_type": "execute_result"
    }
   ],
   "source": [
    "np.unique(y)"
   ]
  },
  {
   "cell_type": "code",
   "execution_count": 22,
   "id": "3d95bf37",
   "metadata": {},
   "outputs": [],
   "source": [
    "from sklearn.preprocessing import OneHotEncoder"
   ]
  },
  {
   "cell_type": "code",
   "execution_count": 23,
   "id": "329ccc9c",
   "metadata": {},
   "outputs": [],
   "source": [
    "onehot = OneHotEncoder()\n",
    "y_onehot = onehot.fit_transform(y.reshape(-1,1))"
   ]
  },
  {
   "cell_type": "code",
   "execution_count": 24,
   "id": "2cd747e1",
   "metadata": {},
   "outputs": [],
   "source": [
    "y_array = y_onehot.toarray()"
   ]
  },
  {
   "cell_type": "code",
   "execution_count": 25,
   "id": "dfdeb1eb",
   "metadata": {},
   "outputs": [
    {
     "data": {
      "text/plain": [
       "(9960, 4)"
      ]
     },
     "execution_count": 25,
     "metadata": {},
     "output_type": "execute_result"
    }
   ],
   "source": [
    "y_array.shape"
   ]
  },
  {
   "cell_type": "markdown",
   "id": "6d632a37",
   "metadata": {},
   "source": [
    "## Paso 3:\n",
    "- Separar los datos en sets de entrenamiento y test respectivamente"
   ]
  },
  {
   "cell_type": "code",
   "execution_count": 26,
   "id": "54c1215e",
   "metadata": {},
   "outputs": [],
   "source": [
    "from sklearn.model_selection import train_test_split\n",
    "x_train, x_test, y_train, y_test = train_test_split(X,y_array, test_size=0.2, random_state=42)"
   ]
  },
  {
   "cell_type": "code",
   "execution_count": 27,
   "id": "fe6cdbc2",
   "metadata": {},
   "outputs": [
    {
     "data": {
      "text/plain": [
       "((7968, 100, 100, 3), (1992, 100, 100, 3), (7968, 4), (1992, 4))"
      ]
     },
     "execution_count": 27,
     "metadata": {},
     "output_type": "execute_result"
    }
   ],
   "source": [
    "x_train.shape, x_test.shape, y_train.shape, y_test.shape"
   ]
  },
  {
   "cell_type": "markdown",
   "id": "e2680064",
   "metadata": {},
   "source": [
    "## Paso 4:\n",
    "- Diseno y creacion del modelo de Deep Learning"
   ]
  },
  {
   "cell_type": "code",
   "execution_count": 28,
   "id": "e16bb66a",
   "metadata": {},
   "outputs": [],
   "source": [
    "# Importar las librerias necesarias para la creacion del modelo\n",
    "import tensorflow as tf\n",
    "from tensorflow.keras import layers\n",
    "from tensorflow.keras import Sequential"
   ]
  },
  {
   "cell_type": "code",
   "execution_count": 22,
   "id": "c6aba14a",
   "metadata": {},
   "outputs": [],
   "source": [
    "# Diseñar la estuctura de la red neuronal convolucional\n",
    "\n",
    "model = Sequential([\n",
    "    layers.Conv2D(16,3,padding='same', input_shape=(100,100,3),activation='relu'),\n",
    "    layers.MaxPool2D(),\n",
    "    layers.Conv2D(32,3,padding='same',activation='relu'),\n",
    "    layers.MaxPool2D(),\n",
    "    layers.Conv2D(64,3,padding='same',activation='relu'),\n",
    "    layers.MaxPool2D(),\n",
    "    layers.Flatten(),\n",
    "    layers.Dense(192,activation='relu'),\n",
    "    layers.Dense(28,activation='relu'),\n",
    "    layers.Dense(4,activation='sigmoid')\n",
    "])\n",
    "\n",
    "# Compilar el modelo de red neuronal convolucional. Configurar el optimizador \"Adam\" y la función de pérdida\n",
    "model.compile(optimizer=tf.keras.optimizers.Adam(learning_rate=0.0001),\n",
    "              loss=tf.keras.losses.categorical_crossentropy,metrics=['accuracy'])"
   ]
  },
  {
   "cell_type": "code",
   "execution_count": 29,
   "id": "51c75586",
   "metadata": {},
   "outputs": [],
   "source": [
    "#    model = Sequential([\n",
    "#        layers.Conv2D(32, (3, 3), padding='same', input_shape=x_train.shape[1:]),\n",
    "#        layers.Activation('relu'),\n",
    "#        layers.Conv2D(32, (3, 3)),\n",
    "#        layers.Activation('relu'),\n",
    "#        layers.MaxPooling2D(pool_size=(2, 2)),\n",
    "#        layers.Dropout(0.25),\n",
    "#        layers.Conv2D(64, (3, 3), padding='same'),\n",
    "#        layers.Activation('relu'),\n",
    "#        layers.Conv2D(64, (3, 3)),\n",
    "#        layers.Activation('relu'),\n",
    "#        layers.MaxPooling2D(pool_size=(2, 2)),\n",
    "#        layers.Dropout(0.25),\n",
    "#        layers.Flatten(),\n",
    "#        layers.Dense(512),\n",
    "#        layers.Activation('relu'),\n",
    "#        layers.Dropout(0.5),\n",
    "#        layers.Dense(4),\n",
    "#        layers.Activation('sigmoid')\n",
    "#    ])\n",
    "#    \n",
    "#    # Compilar el modelo de red neuronal convolucional. Configurar el optimizador \"Adam\" y la función de pérdida\n",
    "#    model.compile(optimizer=tf.keras.optimizers.Adam(learning_rate=0.001),\n",
    "#                  loss=tf.keras.losses.categorical_crossentropy,metrics=['accuracy'])"
   ]
  },
  {
   "cell_type": "code",
   "execution_count": 30,
   "id": "29844f28",
   "metadata": {},
   "outputs": [
    {
     "name": "stdout",
     "output_type": "stream",
     "text": [
      "Model: \"sequential_1\"\n",
      "_________________________________________________________________\n",
      " Layer (type)                Output Shape              Param #   \n",
      "=================================================================\n",
      " conv2d_4 (Conv2D)           (None, 100, 100, 32)      896       \n",
      "                                                                 \n",
      " activation_6 (Activation)   (None, 100, 100, 32)      0         \n",
      "                                                                 \n",
      " conv2d_5 (Conv2D)           (None, 98, 98, 32)        9248      \n",
      "                                                                 \n",
      " activation_7 (Activation)   (None, 98, 98, 32)        0         \n",
      "                                                                 \n",
      " max_pooling2d_2 (MaxPooling  (None, 49, 49, 32)       0         \n",
      " 2D)                                                             \n",
      "                                                                 \n",
      " dropout_3 (Dropout)         (None, 49, 49, 32)        0         \n",
      "                                                                 \n",
      " conv2d_6 (Conv2D)           (None, 49, 49, 64)        18496     \n",
      "                                                                 \n",
      " activation_8 (Activation)   (None, 49, 49, 64)        0         \n",
      "                                                                 \n",
      " conv2d_7 (Conv2D)           (None, 47, 47, 64)        36928     \n",
      "                                                                 \n",
      " activation_9 (Activation)   (None, 47, 47, 64)        0         \n",
      "                                                                 \n",
      " max_pooling2d_3 (MaxPooling  (None, 23, 23, 64)       0         \n",
      " 2D)                                                             \n",
      "                                                                 \n",
      " dropout_4 (Dropout)         (None, 23, 23, 64)        0         \n",
      "                                                                 \n",
      " flatten_1 (Flatten)         (None, 33856)             0         \n",
      "                                                                 \n",
      " dense_2 (Dense)             (None, 512)               17334784  \n",
      "                                                                 \n",
      " activation_10 (Activation)  (None, 512)               0         \n",
      "                                                                 \n",
      " dropout_5 (Dropout)         (None, 512)               0         \n",
      "                                                                 \n",
      " dense_3 (Dense)             (None, 4)                 2052      \n",
      "                                                                 \n",
      " activation_11 (Activation)  (None, 4)                 0         \n",
      "                                                                 \n",
      "=================================================================\n",
      "Total params: 17,402,404\n",
      "Trainable params: 17,402,404\n",
      "Non-trainable params: 0\n",
      "_________________________________________________________________\n"
     ]
    }
   ],
   "source": [
    "model.summary()"
   ]
  },
  {
   "cell_type": "code",
   "execution_count": 31,
   "id": "0f88a3be",
   "metadata": {},
   "outputs": [
    {
     "name": "stdout",
     "output_type": "stream",
     "text": [
      "Epoch 1/10\n",
      "266/266 [==============================] - 285s 1s/step - loss: 0.3344 - accuracy: 0.8810 - val_loss: 0.0982 - val_accuracy: 0.9669\n",
      "Epoch 2/10\n",
      "266/266 [==============================] - 251s 945ms/step - loss: 0.1178 - accuracy: 0.9627 - val_loss: 0.0809 - val_accuracy: 0.9749\n",
      "Epoch 3/10\n",
      "266/266 [==============================] - 243s 915ms/step - loss: 0.0769 - accuracy: 0.9750 - val_loss: 0.0960 - val_accuracy: 0.9699\n",
      "Epoch 4/10\n",
      "266/266 [==============================] - 255s 958ms/step - loss: 0.0644 - accuracy: 0.9807 - val_loss: 0.0739 - val_accuracy: 0.9799\n",
      "Epoch 5/10\n",
      "266/266 [==============================] - 277s 1s/step - loss: 0.0498 - accuracy: 0.9833 - val_loss: 0.0597 - val_accuracy: 0.9834\n",
      "Epoch 6/10\n",
      "266/266 [==============================] - 238s 895ms/step - loss: 0.0440 - accuracy: 0.9851 - val_loss: 0.0441 - val_accuracy: 0.9849\n",
      "Epoch 7/10\n",
      "266/266 [==============================] - 314s 1s/step - loss: 0.0327 - accuracy: 0.9883 - val_loss: 0.0547 - val_accuracy: 0.9839\n",
      "Epoch 8/10\n",
      "266/266 [==============================] - 295s 1s/step - loss: 0.0361 - accuracy: 0.9872 - val_loss: 0.0982 - val_accuracy: 0.9744\n",
      "Epoch 9/10\n",
      "266/266 [==============================] - 281s 1s/step - loss: 0.0307 - accuracy: 0.9893 - val_loss: 0.0502 - val_accuracy: 0.9874\n",
      "Epoch 10/10\n",
      "266/266 [==============================] - 288s 1s/step - loss: 0.0239 - accuracy: 0.9912 - val_loss: 0.0647 - val_accuracy: 0.9849\n"
     ]
    }
   ],
   "source": [
    "# Entrenar la red Neuronal con los parametros necesarios\n",
    "history = model.fit(x=x_train,y=y_train,validation_data=(x_test,y_test),batch_size=30,epochs=10)"
   ]
  },
  {
   "cell_type": "code",
   "execution_count": 32,
   "id": "400a1e17",
   "metadata": {},
   "outputs": [],
   "source": [
    "import pandas as pd\n",
    "import matplotlib.pyplot as plt"
   ]
  },
  {
   "cell_type": "code",
   "execution_count": 33,
   "id": "7f4dd1a5",
   "metadata": {},
   "outputs": [],
   "source": [
    "# Crear la tabla con los datos de perdida y presicion\n",
    "history_df = pd.DataFrame(history.history)"
   ]
  },
  {
   "cell_type": "code",
   "execution_count": 34,
   "id": "ff7a1f35",
   "metadata": {},
   "outputs": [
    {
     "data": {
      "text/html": [
       "<div>\n",
       "<style scoped>\n",
       "    .dataframe tbody tr th:only-of-type {\n",
       "        vertical-align: middle;\n",
       "    }\n",
       "\n",
       "    .dataframe tbody tr th {\n",
       "        vertical-align: top;\n",
       "    }\n",
       "\n",
       "    .dataframe thead th {\n",
       "        text-align: right;\n",
       "    }\n",
       "</style>\n",
       "<table border=\"1\" class=\"dataframe\">\n",
       "  <thead>\n",
       "    <tr style=\"text-align: right;\">\n",
       "      <th></th>\n",
       "      <th>loss</th>\n",
       "      <th>accuracy</th>\n",
       "      <th>val_loss</th>\n",
       "      <th>val_accuracy</th>\n",
       "    </tr>\n",
       "  </thead>\n",
       "  <tbody>\n",
       "    <tr>\n",
       "      <th>0</th>\n",
       "      <td>0.334429</td>\n",
       "      <td>0.881024</td>\n",
       "      <td>0.098162</td>\n",
       "      <td>0.966867</td>\n",
       "    </tr>\n",
       "    <tr>\n",
       "      <th>1</th>\n",
       "      <td>0.117832</td>\n",
       "      <td>0.962726</td>\n",
       "      <td>0.080908</td>\n",
       "      <td>0.974900</td>\n",
       "    </tr>\n",
       "    <tr>\n",
       "      <th>2</th>\n",
       "      <td>0.076912</td>\n",
       "      <td>0.975025</td>\n",
       "      <td>0.096018</td>\n",
       "      <td>0.969880</td>\n",
       "    </tr>\n",
       "    <tr>\n",
       "      <th>3</th>\n",
       "      <td>0.064412</td>\n",
       "      <td>0.980673</td>\n",
       "      <td>0.073852</td>\n",
       "      <td>0.979920</td>\n",
       "    </tr>\n",
       "    <tr>\n",
       "      <th>4</th>\n",
       "      <td>0.049770</td>\n",
       "      <td>0.983308</td>\n",
       "      <td>0.059685</td>\n",
       "      <td>0.983434</td>\n",
       "    </tr>\n",
       "    <tr>\n",
       "      <th>5</th>\n",
       "      <td>0.044035</td>\n",
       "      <td>0.985065</td>\n",
       "      <td>0.044080</td>\n",
       "      <td>0.984940</td>\n",
       "    </tr>\n",
       "    <tr>\n",
       "      <th>6</th>\n",
       "      <td>0.032716</td>\n",
       "      <td>0.988328</td>\n",
       "      <td>0.054668</td>\n",
       "      <td>0.983936</td>\n",
       "    </tr>\n",
       "    <tr>\n",
       "      <th>7</th>\n",
       "      <td>0.036098</td>\n",
       "      <td>0.987199</td>\n",
       "      <td>0.098154</td>\n",
       "      <td>0.974398</td>\n",
       "    </tr>\n",
       "    <tr>\n",
       "      <th>8</th>\n",
       "      <td>0.030699</td>\n",
       "      <td>0.989332</td>\n",
       "      <td>0.050169</td>\n",
       "      <td>0.987450</td>\n",
       "    </tr>\n",
       "    <tr>\n",
       "      <th>9</th>\n",
       "      <td>0.023940</td>\n",
       "      <td>0.991215</td>\n",
       "      <td>0.064678</td>\n",
       "      <td>0.984940</td>\n",
       "    </tr>\n",
       "  </tbody>\n",
       "</table>\n",
       "</div>"
      ],
      "text/plain": [
       "       loss  accuracy  val_loss  val_accuracy\n",
       "0  0.334429  0.881024  0.098162      0.966867\n",
       "1  0.117832  0.962726  0.080908      0.974900\n",
       "2  0.076912  0.975025  0.096018      0.969880\n",
       "3  0.064412  0.980673  0.073852      0.979920\n",
       "4  0.049770  0.983308  0.059685      0.983434\n",
       "5  0.044035  0.985065  0.044080      0.984940\n",
       "6  0.032716  0.988328  0.054668      0.983936\n",
       "7  0.036098  0.987199  0.098154      0.974398\n",
       "8  0.030699  0.989332  0.050169      0.987450\n",
       "9  0.023940  0.991215  0.064678      0.984940"
      ]
     },
     "execution_count": 34,
     "metadata": {},
     "output_type": "execute_result"
    }
   ],
   "source": [
    "# Mostrar la tabla con los datos de perdida y presicion\n",
    "history_df"
   ]
  },
  {
   "cell_type": "code",
   "execution_count": 35,
   "id": "0f070193",
   "metadata": {},
   "outputs": [
    {
     "data": {
      "text/plain": [
       "<function matplotlib.pyplot.show(close=None, block=None)>"
      ]
     },
     "execution_count": 35,
     "metadata": {},
     "output_type": "execute_result"
    },
    {
     "data": {
      "image/png": "[encoded data removed]",
      "text/plain": [
       "<Figure size 640x480 with 1 Axes>"
      ]
     },
     "metadata": {},
     "output_type": "display_data"
    }
   ],
   "source": [
    "# Grafica de Perdida vs epocas\n",
    "history_df[['loss','val_loss']].plot(kind='line')\n",
    "plt.xlabel('Epocas')\n",
    "plt.ylabel('Perdida')\n",
    "plt.xticks(list(range(10)),list(range(1,11)))\n",
    "plt.show"
   ]
  },
  {
   "cell_type": "code",
   "execution_count": 36,
   "id": "efb014d5",
   "metadata": {},
   "outputs": [
    {
     "data": {
      "text/plain": [
       "<function matplotlib.pyplot.show(close=None, block=None)>"
      ]
     },
     "execution_count": 36,
     "metadata": {},
     "output_type": "execute_result"
    },
    {
     "data": {
      "image/png": "[encoded data removed]",
      "text/plain": [
       "<Figure size 640x480 with 1 Axes>"
      ]
     },
     "metadata": {},
     "output_type": "display_data"
    }
   ],
   "source": [
    "# Grafica de Presicion vs epocas\n",
    "history_df[['accuracy','val_accuracy']].plot(kind='line')\n",
    "plt.xlabel('Epocas')\n",
    "plt.ylabel('Presicion')\n",
    "plt.xticks(list(range(10)),list(range(1,11)))\n",
    "plt.show"
   ]
  },
  {
   "cell_type": "code",
   "execution_count": 37,
   "id": "9fe65ead",
   "metadata": {},
   "outputs": [
    {
     "name": "stderr",
     "output_type": "stream",
     "text": [
      "WARNING:absl:Found untraced functions such as _jit_compiled_convolution_op, _jit_compiled_convolution_op, _jit_compiled_convolution_op, _jit_compiled_convolution_op, _update_step_xla while saving (showing 5 of 5). These functions will not be directly callable after loading.\n"
     ]
    },
    {
     "name": "stdout",
     "output_type": "stream",
     "text": [
      "INFO:tensorflow:Assets written to: modelo_cnn_deteccion_mascarillas_AG_MT_V6\\assets\n"
     ]
    },
    {
     "name": "stderr",
     "output_type": "stream",
     "text": [
      "INFO:tensorflow:Assets written to: modelo_cnn_deteccion_mascarillas_AG_MT_V6\\assets\n"
     ]
    }
   ],
   "source": [
    "# Guardar el modelo diseñado\n",
    "model.save('modelo_cnn_deteccion_mascarillas_AG_MT')"
   ]
  },
  {
   "cell_type": "code",
   "execution_count": null,
   "id": "f6da86c3",
   "metadata": {},
   "outputs": [],
   "source": []
  }
 ],
 "metadata": {
  "kernelspec": {
   "display_name": "Python 3 (ipykernel)",
   "language": "python",
   "name": "python3"
  },
  "language_info": {
   "codemirror_mode": {
    "name": "ipython",
    "version": 3
   },
   "file_extension": ".py",
   "mimetype": "text/x-python",
   "name": "python",
   "nbconvert_exporter": "python",
   "pygments_lexer": "ipython3",
   "version": "3.10.6"
  }
 },
 "nbformat": 4,
 "nbformat_minor": 5
}
